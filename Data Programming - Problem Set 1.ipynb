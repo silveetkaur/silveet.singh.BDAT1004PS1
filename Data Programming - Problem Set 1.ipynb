{
 "cells": [
  {
   "cell_type": "markdown",
   "id": "00bf8bfb",
   "metadata": {},
   "source": [
    "# DATA PROGRAMMING  "
   ]
  },
  {
   "cell_type": "markdown",
   "id": "0cd1f8f0",
   "metadata": {},
   "source": [
    "## PROBLEM SET 1"
   ]
  },
  {
   "cell_type": "markdown",
   "id": "3f2bf44d",
   "metadata": {},
   "source": [
    "### Question 1"
   ]
  },
  {
   "cell_type": "markdown",
   "id": "dfb8fc5d",
   "metadata": {},
   "source": [
    "What data type is each of the following (evaluate where necessary)?\n",
    "\n",
    "|No. |Numbers |\n",
    "|:-----|:----:|\n",
    "|1 |5  |\n",
    "|2 |5.0|\n",
    "|3 |5 > 1 |\n",
    "|4 |'5' |\n",
    "|5 |5 * 2|\n",
    "|6 | '5' * 2|\n",
    "|7 |'5' + '2'|\n",
    "|8 |5/2 |\n",
    "|9 |5%2 |\n",
    "|10 |{5, 2, 1} |\n",
    "|11 |5== 3 |\n",
    "|12 |pi(The Number)|"
   ]
  },
  {
   "cell_type": "markdown",
   "id": "d220be13",
   "metadata": {},
   "source": [
    "### Answer:"
   ]
  },
  {
   "cell_type": "markdown",
   "id": "ea6e3e6d",
   "metadata": {},
   "source": [
    "|No. |Numbers|Data Type|\n",
    "|:-----|:----:|----:|\n",
    "|1 |5  |Integer |\n",
    "|2 |5.0|Float |\n",
    "|3 |5 > 1 |Boolean |\n",
    "|4 |'5' |String |\n",
    "|5 |5 * 2|Integer |\n",
    "|6 | '5' * 2|String |\n",
    "|7 |'5' + '2'|String |\n",
    "|8 |5/2 |Float |\n",
    "|9 |5%2 |Integer |\n",
    "|10 |{5, 2, 1} |Set |\n",
    "|11 |5== 3 |Boolean |\n",
    "|12 |pi(The Number)|Float |\n"
   ]
  },
  {
   "cell_type": "markdown",
   "id": "4595884e",
   "metadata": {},
   "source": [
    "### After evaluation:"
   ]
  },
  {
   "cell_type": "code",
   "execution_count": 13,
   "id": "e53b169e",
   "metadata": {},
   "outputs": [
    {
     "data": {
      "text/plain": [
       "True"
      ]
     },
     "execution_count": 13,
     "metadata": {},
     "output_type": "execute_result"
    }
   ],
   "source": [
    "5 > 1"
   ]
  },
  {
   "cell_type": "code",
   "execution_count": 7,
   "id": "3a16ca19",
   "metadata": {},
   "outputs": [
    {
     "data": {
      "text/plain": [
       "10"
      ]
     },
     "execution_count": 7,
     "metadata": {},
     "output_type": "execute_result"
    }
   ],
   "source": [
    "5 * 2"
   ]
  },
  {
   "cell_type": "code",
   "execution_count": 3,
   "id": "3487f0eb",
   "metadata": {},
   "outputs": [
    {
     "data": {
      "text/plain": [
       "'55'"
      ]
     },
     "execution_count": 3,
     "metadata": {},
     "output_type": "execute_result"
    }
   ],
   "source": [
    "'5'* 2"
   ]
  },
  {
   "cell_type": "code",
   "execution_count": 4,
   "id": "93231637",
   "metadata": {},
   "outputs": [
    {
     "data": {
      "text/plain": [
       "'52'"
      ]
     },
     "execution_count": 4,
     "metadata": {},
     "output_type": "execute_result"
    }
   ],
   "source": [
    "'5'+ '2'"
   ]
  },
  {
   "cell_type": "code",
   "execution_count": 6,
   "id": "e02010ba",
   "metadata": {},
   "outputs": [
    {
     "data": {
      "text/plain": [
       "2.5"
      ]
     },
     "execution_count": 6,
     "metadata": {},
     "output_type": "execute_result"
    }
   ],
   "source": [
    "5/2"
   ]
  },
  {
   "cell_type": "code",
   "execution_count": 6,
   "id": "ce1e00e8",
   "metadata": {},
   "outputs": [
    {
     "data": {
      "text/plain": [
       "1"
      ]
     },
     "execution_count": 6,
     "metadata": {},
     "output_type": "execute_result"
    }
   ],
   "source": [
    " 5 % 2"
   ]
  },
  {
   "cell_type": "code",
   "execution_count": 8,
   "id": "532dadd6",
   "metadata": {},
   "outputs": [
    {
     "data": {
      "text/plain": [
       "False"
      ]
     },
     "execution_count": 8,
     "metadata": {},
     "output_type": "execute_result"
    }
   ],
   "source": [
    "5==3"
   ]
  },
  {
   "cell_type": "code",
   "execution_count": 8,
   "id": "72fc901a",
   "metadata": {
    "scrolled": true
   },
   "outputs": [
    {
     "name": "stdout",
     "output_type": "stream",
     "text": [
      "3.141592653589793\n"
     ]
    }
   ],
   "source": [
    "import math\n",
    "pi_value=math.pi\n",
    "print(pi_value)"
   ]
  },
  {
   "cell_type": "markdown",
   "id": "74acacda",
   "metadata": {},
   "source": [
    "---\n",
    "* * *"
   ]
  },
  {
   "cell_type": "markdown",
   "id": "9ed7f0f2",
   "metadata": {},
   "source": [
    "### Question 2"
   ]
  },
  {
   "cell_type": "markdown",
   "id": "1692d81a",
   "metadata": {},
   "source": [
    "Write (and evaluate) python expressions that answer these questions:"
   ]
  },
  {
   "cell_type": "markdown",
   "id": "4854b9c7",
   "metadata": {},
   "source": [
    "### Question 2.A"
   ]
  },
  {
   "cell_type": "markdown",
   "id": "de2bf21e",
   "metadata": {},
   "source": [
    "a. How many letters are there in 'Supercalifragilisticexpialidocious'? "
   ]
  },
  {
   "cell_type": "markdown",
   "id": "6b94d313",
   "metadata": {},
   "source": [
    "### Answer:"
   ]
  },
  {
   "cell_type": "code",
   "execution_count": 23,
   "id": "3220c5f2",
   "metadata": {},
   "outputs": [
    {
     "name": "stdout",
     "output_type": "stream",
     "text": [
      "34\n"
     ]
    }
   ],
   "source": [
    "# Defined a variable with the word 'Supercalifragilisticexpialidocious'\n",
    "letter_a= 'Supercalifragilisticexpialidocious'\n",
    "\n",
    "# Using len to find the length of the given word\n",
    "length_a=len(letter_a)         \n",
    "\n",
    "print(length_a)"
   ]
  },
  {
   "cell_type": "markdown",
   "id": "4f3874c2",
   "metadata": {},
   "source": [
    "### Question 2.B"
   ]
  },
  {
   "cell_type": "markdown",
   "id": "4cfdd044",
   "metadata": {},
   "source": [
    "b. Does 'Supercalifragilisticexpialidocious' contain 'ice' as a substring?"
   ]
  },
  {
   "cell_type": "markdown",
   "id": "6dad28a3",
   "metadata": {},
   "source": [
    "### Answer:"
   ]
  },
  {
   "cell_type": "code",
   "execution_count": 24,
   "id": "11c2c5a8",
   "metadata": {},
   "outputs": [
    {
     "name": "stdout",
     "output_type": "stream",
     "text": [
      "True\n"
     ]
    }
   ],
   "source": [
    "# Defined a variable with the word 'Supercalifragilisticexpialidocious'\n",
    "letter_b='Supercalifragilisticexpialidocious'\n",
    "\n",
    "# Using 'in' operator to check if the given word contains ice\n",
    "contain_ice='ice' in letter_b       \n",
    "\n",
    "print(contain_ice)\n"
   ]
  },
  {
   "cell_type": "markdown",
   "id": "300da337",
   "metadata": {},
   "source": [
    "### Question 2.C"
   ]
  },
  {
   "cell_type": "markdown",
   "id": "8917a028",
   "metadata": {},
   "source": [
    "c. Which of the following words is the longest:\n",
    "Supercalifragilisticexpialidocious, Honorificabilitudinitatibus, or\n",
    "Bababadalgharaghtakamminarronnkonn?"
   ]
  },
  {
   "cell_type": "markdown",
   "id": "767533d1",
   "metadata": {},
   "source": [
    "### Answer:"
   ]
  },
  {
   "cell_type": "code",
   "execution_count": 25,
   "id": "721fba9e",
   "metadata": {},
   "outputs": [
    {
     "name": "stdout",
     "output_type": "stream",
     "text": [
      "The longest word is: Supercalifragilisticexpialidocious\n"
     ]
    }
   ],
   "source": [
    "letter_c = [\"Supercalifragilisticexpialidocious\", \"Honorificabilitudinitatibus\", \"Bababadalgharaghtakamminarronnkonn\"]\n",
    "\n",
    "# Using 'max'function which will iterate to find out the longest word with 'key=len'to compare the length of the words\n",
    "longest_word = max(letter_c, key=len)   \n",
    "\n",
    "print(\"The longest word is:\", longest_word)"
   ]
  },
  {
   "cell_type": "markdown",
   "id": "ed7af4af",
   "metadata": {},
   "source": [
    "### Question 2.D"
   ]
  },
  {
   "cell_type": "markdown",
   "id": "938c8364",
   "metadata": {},
   "source": [
    "d. Which composer comes first in the dictionary: 'Berlioz', 'Borodin', 'Brian',\n",
    "'Bartok', 'Bellini', 'Buxtehude', 'Bernstein'. Which one comes last?"
   ]
  },
  {
   "cell_type": "markdown",
   "id": "53aff43a",
   "metadata": {},
   "source": [
    "### Answer:"
   ]
  },
  {
   "cell_type": "code",
   "execution_count": 26,
   "id": "a5d3a413",
   "metadata": {},
   "outputs": [
    {
     "name": "stdout",
     "output_type": "stream",
     "text": [
      "The given composers are:['Berlioz', 'Borodin', 'Brian', 'Bartok', 'Bellini', 'Buxtehude', 'Bernstein']\n",
      "The composer which comes first in the dictionary is: Bartok\n",
      "The composer which comes last in the dictionary is: Buxtehude\n"
     ]
    }
   ],
   "source": [
    "composers=['Berlioz', 'Borodin', 'Brian', 'Bartok', 'Bellini', 'Buxtehude', 'Bernstein']\n",
    "print('The given composers are:' +str (composers))\n",
    "\n",
    "# Using 'min function' to find the first alphabetical order\n",
    "first_composer = min(composers) \n",
    "\n",
    "# Using 'max function' to find the last alphabetical order\n",
    "last_composer = max(composers)   \n",
    "\n",
    "print(\"The composer which comes first in the dictionary is:\", first_composer)\n",
    "print(\"The composer which comes last in the dictionary is:\", last_composer)\n"
   ]
  },
  {
   "cell_type": "markdown",
   "id": "9036cc84",
   "metadata": {},
   "source": [
    "---\n",
    "* * *"
   ]
  },
  {
   "cell_type": "markdown",
   "id": "f549edcb",
   "metadata": {},
   "source": [
    "### Question 3"
   ]
  },
  {
   "cell_type": "markdown",
   "id": "027e2daf",
   "metadata": {},
   "source": [
    "Implement function triangleArea(a,b,c) that takes as input the lengths of the 3\n",
    "sides of a triangle and returns the area of the triangle. By Heron's formula, the area\n",
    "of a triangle with side lengths a, b, and c is\n",
    "s(s - a)(s -b)(s -c), where\n",
    "s = (a +b + c) /2.\n",
    ">>> triangleArea(2,2,2)\n",
    "1.7320508075688772"
   ]
  },
  {
   "cell_type": "markdown",
   "id": "9e08c394",
   "metadata": {},
   "source": [
    "### Answer:"
   ]
  },
  {
   "cell_type": "code",
   "execution_count": 27,
   "id": "c3e68f13",
   "metadata": {},
   "outputs": [
    {
     "name": "stdout",
     "output_type": "stream",
     "text": [
      "1.7320508075688772\n"
     ]
    }
   ],
   "source": [
    "# Importing math module\n",
    "import math \n",
    "\n",
    "# Defining a function called \"trianglearea\"\n",
    "def trianglearea(a, b, c):  \n",
    "    \n",
    "# Calculating semi-perimeter\n",
    "    s = (a + b + c) / 2      \n",
    "    \n",
    "# Calculating area\n",
    "    area = math.sqrt(s * (s - a) * (s - b) * (s - c))  \n",
    "    return area\n",
    "\n",
    "area = trianglearea(2, 2, 2)\n",
    "print(area)"
   ]
  },
  {
   "cell_type": "markdown",
   "id": "251faf37",
   "metadata": {},
   "source": [
    "---\n",
    "* * *"
   ]
  },
  {
   "cell_type": "markdown",
   "id": "f519f6e5",
   "metadata": {},
   "source": [
    "### Question 4"
   ]
  },
  {
   "cell_type": "markdown",
   "id": "e7915df4",
   "metadata": {},
   "source": [
    "Write a program in python to separate odd and even integers in separate arrays. Go\n",
    "to the editor<br>\n",
    "Test Data :<br>\n",
    "Input the number of elements to be stored in the array :5<br>\n",
    "Input 5 elements in the array :<br>\n",
    "element - 0 : 25<br>\n",
    "element - 1 : 47<br>\n",
    "element - 2 : 42<br>\n",
    "element - 3 : 56<br>\n",
    "element - 4 : 32<br>\n",
    "Expected Output:<br>\n",
    "The Even elements are:<br>\n",
    "42 56 32<br>\n",
    "The Odd elements are :<br>\n",
    "25 47<br>"
   ]
  },
  {
   "cell_type": "markdown",
   "id": "a4e0ed90",
   "metadata": {},
   "source": [
    "### Answer:"
   ]
  },
  {
   "cell_type": "code",
   "execution_count": 28,
   "id": "f9273c33",
   "metadata": {},
   "outputs": [
    {
     "name": "stdout",
     "output_type": "stream",
     "text": [
      "Input the number of elements to be stored in the array: 5\n",
      "Input 5 elements in the array:\n",
      "element - 0: 25\n",
      "element - 1: 47\n",
      "element - 2: 42\n",
      "element - 3: 56\n",
      "element - 4: 32\n",
      "The Even elements are:\n",
      "42 56 32  \n",
      "The Odd elements are:\n",
      "25 47 "
     ]
    }
   ],
   "source": [
    "# Accepts the number of elements \n",
    "\n",
    "n = int(input(\"Input the number of elements to be stored in the array: \"))  \n",
    "    \n",
    "# Creating empty array to store even and odd numbers\n",
    "even_numbers = []\n",
    "odd_numbers = []\n",
    "\n",
    "# Input the elements in the array\n",
    "print(\"Input\", n, \"elements in the array:\")  \n",
    "\n",
    "# Loop to go through each element\n",
    "for i in range(n): \n",
    "    \n",
    "    \n",
    "    num = int(input(\"element - {}: \".format(i)))\n",
    "    if num % 2 == 0:   # Checks if the number is even or not\n",
    "        even_numbers.append(num)  # Add even numbers to the even arays\n",
    "    else:\n",
    "        odd_numbers.append(num)   # Add odd numbers to the odd arays\n",
    "        \n",
    "# Printing the even array\n",
    "print(\"The Even elements are:\")\n",
    "for num in even_numbers:\n",
    "    print(num, end=\" \")\n",
    "\n",
    "# Printing the odd array\n",
    "print(\" \\nThe Odd elements are:\")\n",
    "for num in odd_numbers:\n",
    "    print(num, end=\" \")"
   ]
  },
  {
   "cell_type": "markdown",
   "id": "e2c5c1cf",
   "metadata": {},
   "source": [
    "---\n",
    "* * *"
   ]
  },
  {
   "cell_type": "markdown",
   "id": "06aaea36",
   "metadata": {},
   "source": [
    "### Question 5.A\n"
   ]
  },
  {
   "cell_type": "markdown",
   "id": "60e504bd",
   "metadata": {},
   "source": [
    "Write a function inside(x,y,x1,y1,x2,y2) that returns True or False depending on whether the point (x,y) lies in the rectangle with lower left corner (x1,y1) and upper right corner (x2,y2).\n",
    ">>> inside(1,1,0,0,2,3)\n",
    "True\n",
    ">>> inside(-1,-1,0,0,2,3)\n",
    "False"
   ]
  },
  {
   "cell_type": "markdown",
   "id": "1f46a574",
   "metadata": {},
   "source": [
    "### Answer:"
   ]
  },
  {
   "cell_type": "code",
   "execution_count": 55,
   "id": "e1073159",
   "metadata": {},
   "outputs": [
    {
     "name": "stdout",
     "output_type": "stream",
     "text": [
      "True\n",
      "False\n"
     ]
    }
   ],
   "source": [
    "# Defined the inside() function to check if it has a point in the rectangle\n",
    "def inside(x, y, x1, y1, x2, y2):\n",
    "\n",
    "# Using if-else statement we find if the co-ordinate is inside the rectangle or not\n",
    "    if x1 <= x <= x2 and y1 <= y <= y2:\n",
    "        return True\n",
    "    else:\n",
    "        return False\n",
    "# Using print to find the output of the given co-ordinate\n",
    "print(inside(1, 1, 0, 0, 2, 3))\n",
    "print(inside(-1, -1, 0, 0, 2, 3))"
   ]
  },
  {
   "cell_type": "markdown",
   "id": "cfcb0127",
   "metadata": {},
   "source": [
    "### Question 5.B\n"
   ]
  },
  {
   "cell_type": "markdown",
   "id": "667dfc8b",
   "metadata": {},
   "source": [
    "Use function inside() from part a. to write an expression that tests whether the point (1,1) lies in both of the following rectangles: one with lower left corner (0.3, 0.5) and upper right corner (1.1, 0.7) and the other with lower left corner (0.5, 0.2) and upper right corner (1.1, 2)."
   ]
  },
  {
   "cell_type": "markdown",
   "id": "f147584d",
   "metadata": {},
   "source": [
    "### Answer:"
   ]
  },
  {
   "cell_type": "code",
   "execution_count": 10,
   "id": "fecff08f",
   "metadata": {},
   "outputs": [
    {
     "name": "stdout",
     "output_type": "stream",
     "text": [
      "The point (1,1) does not lie in both rectangles.\n"
     ]
    }
   ],
   "source": [
    "# Defined the inside() function to check if it has a point in the rectangle\n",
    "def inside(x, y, x1, y1, x2, y2):\n",
    "    \n",
    "    if x >= x1 and x <= x2 and y >= y1 and y <= y2:\n",
    "        return True\n",
    "    else:\n",
    "        return False\n",
    "\n",
    "# Checking if (1,1) lies in both the rectangles\n",
    "rect1 = inside(1, 1, 0.3, 0.5, 1.1, 0.7)\n",
    "rect2 = inside(1, 1, 0.5, 0.2, 1.1, 2)\n",
    "\n",
    "# Using if-else statement to check if the points lies inside the rectangles\n",
    "if rect1 and rect2:\n",
    "    print(\"The point (1,1) lies in both rectangles.\")\n",
    "else:\n",
    "    print(\"The point (1,1) does not lie in both rectangles.\")"
   ]
  },
  {
   "cell_type": "markdown",
   "id": "075c1969",
   "metadata": {},
   "source": [
    "---\n",
    "* * *"
   ]
  },
  {
   "cell_type": "markdown",
   "id": "8de4126d",
   "metadata": {},
   "source": [
    "### Question 6"
   ]
  },
  {
   "cell_type": "markdown",
   "id": "4be540e4",
   "metadata": {},
   "source": [
    " You can turn a word into pig-Latin using the following two rules (simplified):\n",
    "• If the word starts with a consonant, move that letter to the end and append 'ay'. For example, 'happy' becomes 'appyhay' and 'pencil' becomes 'encilpay'.\n",
    "• If the word starts with a vowel, simply append 'way' to the end of the word. For example, 'enter' becomes 'enterway' and 'other' becomes 'otherway' . For our purposes, there are 5 vowels: a, e, i, o, u (so we count y as a consonant).\n",
    "Write a function pig() that takes a word (i.e., a string) as input and returns its pig-Latin form. Your function should still work if the input word contains upper case characters. Your output should always be lower case however.\n",
    ">>> pig('happy')\n",
    "'appyhay'\n",
    ">>> pig('Enter')\n",
    "'enterway"
   ]
  },
  {
   "cell_type": "markdown",
   "id": "1936da19",
   "metadata": {},
   "source": [
    "### Answer:"
   ]
  },
  {
   "cell_type": "code",
   "execution_count": 11,
   "id": "8b7bd4e7",
   "metadata": {},
   "outputs": [
    {
     "name": "stdout",
     "output_type": "stream",
     "text": [
      "appyhay\n",
      "enterway\n"
     ]
    }
   ],
   "source": [
    "# Defined a function which creats a list of vowels and converts thw words into lowercase\n",
    "def pig(word):\n",
    "    vowels = ['a', 'e', 'i', 'o', 'u']\n",
    "    word = word.lower()\n",
    "# Using if-else statement to check if the word has vowels it adds 'way' and returns the altered word\n",
    "    if word[0] in vowels:\n",
    "        return word + 'way'\n",
    "    else:\n",
    "        return word[1:] + word[0] + 'ay'\n",
    "# Using print to return the result of the pig function\n",
    "print(pig('happy'))  \n",
    "print(pig('Enter'))  "
   ]
  },
  {
   "cell_type": "markdown",
   "id": "9d66fc88",
   "metadata": {},
   "source": [
    "---\n",
    "* * *"
   ]
  },
  {
   "cell_type": "markdown",
   "id": "9736f29c",
   "metadata": {},
   "source": [
    "### Question 7"
   ]
  },
  {
   "cell_type": "markdown",
   "id": "1418ae9d",
   "metadata": {},
   "source": [
    "File bloodtype1.txt records blood-types of patients (A, B, AB, O or OO) at a clinic. Write a function bldcount() that reads the file with name name and reports (i.e., prints) how many patients there are in each bloodtype.\n",
    ">>> bldcount('bloodtype.txt')\n",
    "There are 10 patients of blood type A.\n",
    "There is one patient of blood type B.\n",
    "There are 10 patients of blood type AB.\n",
    "There are 12 patients of blood type O.\n",
    "There are no patients of blood type OO."
   ]
  },
  {
   "cell_type": "markdown",
   "id": "aee693c7",
   "metadata": {},
   "source": [
    "### Answer:"
   ]
  },
  {
   "cell_type": "code",
   "execution_count": 22,
   "id": "95536317",
   "metadata": {},
   "outputs": [
    {
     "name": "stdout",
     "output_type": "stream",
     "text": [
      "AB AB B O A A AB O AB A O O A A A O O O AB O A A A A A AB AB A AB O AB O A O O O AB O AB AB AB A A O \n",
      "\n",
      "There are 15 patients of blood type A\n",
      "There are 1 patients of blood type B\n",
      "There are 13 patients of blood type AB\n",
      "There are 15 patients of blood type O\n",
      "There are 0 patients of blood type OO\n"
     ]
    }
   ],
   "source": [
    "# Represents the path to read the document\n",
    "file_path =\"Downloads/bloodtype1.txt\"\n",
    "\n",
    "# Initialises the dictionary with initial values of several blood types\n",
    "blood_type_counts={'A': 0, 'B': 0, 'AB' :0, 'O': 0, 'OO': 0}\n",
    "\n",
    "# Opens the file\n",
    "with open(file_path,'r') as file:\n",
    "    \n",
    "# Loops to read each line in the file and prints it    \n",
    "    for line in file:\n",
    "        print(line)\n",
    "\n",
    "# Splits the last line of the file in words\n",
    "        blood_type=line.split()\n",
    "    \n",
    "# Loops the words in blood_type\n",
    "        for blood_group in blood_type:\n",
    "        \n",
    "# Increases the count of each blood type\n",
    "            blood_type_counts[blood_group] = blood_type_counts[blood_group]+1\n",
    "\n",
    "# Loops through blood_type_counts and prints counts of each blood type\n",
    "for key,values in blood_type_counts.items():\n",
    "    print(f\"There are {values} patients of blood type {key}\")"
   ]
  },
  {
   "cell_type": "markdown",
   "id": "b6b94388",
   "metadata": {},
   "source": [
    "---\n",
    "* * *"
   ]
  },
  {
   "cell_type": "markdown",
   "id": "3f32076b",
   "metadata": {},
   "source": [
    "### Question 8\n"
   ]
  },
  {
   "cell_type": "markdown",
   "id": "b8e3efbf",
   "metadata": {},
   "source": [
    "Write a function curconv() that takes as input:\n",
    "1. a currency represented using a string (e.g., 'JPY' for the Japanese Yen or 'EUR' for the Euro)\n",
    "2. an amount\n",
    "and then converts and returns the amount in US dollars.\n",
    ">>> curconv('EUR', 100)\n",
    "122.96544\n",
    ">>> curconv('JPY', 100)\n",
    "1.241401"
   ]
  },
  {
   "cell_type": "markdown",
   "id": "edecda2f",
   "metadata": {},
   "source": [
    "### Answer:"
   ]
  },
  {
   "cell_type": "code",
   "execution_count": 18,
   "id": "ff63d9b2",
   "metadata": {},
   "outputs": [
    {
     "name": "stdout",
     "output_type": "stream",
     "text": [
      "122.96544\n",
      "1.241401\n"
     ]
    }
   ],
   "source": [
    "# Defined function checks if the given currency exists in the conversion_rates\n",
    "def curconv(currency, amount):\n",
    "    conversion_rates = {\n",
    "        'JPY': 0.01241401,  # Conversion rate form Japanese Yen to USD\n",
    "        'EUR': 1.2296544,   # Conversion rate form Euro to USD\n",
    "    }\n",
    "    # Using if-else statement to check if the function multiplies the amount by the conversion rate and returns the result.\n",
    "    if currency in conversion_rates:\n",
    "        return amount * conversion_rates[currency]\n",
    "    else:\n",
    "        return \"Invalid currency\"\n",
    "\n",
    "# Using print we call the function curconv to print the given currencies\n",
    "print(curconv('EUR', 100))  \n",
    "print(curconv('JPY', 100))"
   ]
  },
  {
   "cell_type": "markdown",
   "id": "1d1ce7e5",
   "metadata": {},
   "source": [
    "---\n",
    "* * *"
   ]
  },
  {
   "cell_type": "markdown",
   "id": "f9db1bbf",
   "metadata": {},
   "source": [
    "### Question 9"
   ]
  },
  {
   "cell_type": "markdown",
   "id": "bf72dd5c",
   "metadata": {},
   "source": [
    "Each of the following will cause an exception (an error). Identify what type of exception each will cause.\n",
    "Trying to add incompatible variables, as in adding 6 + ‘a’<br>\n",
    "Referring to the 12th item of a list that has only 10 items<br>\n",
    "Using a value that is out of range for a function’sinput, such as calling math.sqrt( 1.0)<br>\n",
    "Using an undeclared variable, such as<br>\n",
    "p rint(x)<br>\n",
    "when x has not been defined<br>\n",
    "Trying to open a file that does not exist, such as<br>\n",
    "mistyping the file name or looking in the wrong\n",
    "directory.<br>"
   ]
  },
  {
   "cell_type": "markdown",
   "id": "c21c8b92",
   "metadata": {},
   "source": [
    "### Answer:"
   ]
  },
  {
   "cell_type": "markdown",
   "id": "4ea7308b",
   "metadata": {},
   "source": [
    "Trying to add incompatible variables, as in adding 6 + 'a' will cause a  **TypeError** because a number and a string cannot be added together.\n",
    "\n",
    "Referring to the 12th item of a list that has only 10 items will cause an **IndexError** because you are attempting to access an out-of-range index.\n",
    "\n",
    "Using a value that is out of range for a function's input, such as calling math.sqrt(1.0) will cause a **ValueError** because the math.sqrt() function expects an argument that is bigger than or equal to zero. \n",
    "\n",
    "Using an undeclared variable, such as print(x) when x has not been defined will cause a **NameError** because the variable 'x' has not yet been declared or assigned a value.\n",
    "\n",
    "Trying to open a file that does not exist, such as mistyping the file name or looking in the wrong directory will cause a **FileNotFoundError** because the file you are attempting to open does not exist in the location. "
   ]
  },
  {
   "cell_type": "markdown",
   "id": "9a98a884",
   "metadata": {},
   "source": [
    "---\n",
    "* * *"
   ]
  },
  {
   "cell_type": "markdown",
   "id": "5fe126f9",
   "metadata": {},
   "source": [
    "### Question 10\n"
   ]
  },
  {
   "cell_type": "markdown",
   "id": "a877d615",
   "metadata": {},
   "source": [
    "Encryption is the process of hiding the meaning of a text by substituting letters in the message with other letters, according to some system. If the process is successful, no one but the intended recipient can understand the encrypted message. Cryptanalysis refers to attempts to undo the encryption, even if some details of the encryption are unknown (for example, if an encrypted message has been intercepted). The first step of cryptanalysis is often to build up a table of letter frequencies in the encrypted text. Assume that the string letters is already defined as 'abcdefghijklmnopqrstuvwxyz'. Write a function called frequencies() that takes a string as its only parameter, and returns a list of integers, showing the number of times each character appears in the text. Your function may ignore any characters that are not in letters.\n",
    ">>> frequencies('The quick red fox got bored and went home.')\n",
    "[1, 1, 1, 3, 5, 1, 1, 2, 1, 0, 1, 0, 1, 2, 4, 0, 1, 2, 0, 2, 1, 0, 1, 1, 0, 0]\n",
    ">>> frequencies('apple')"
   ]
  },
  {
   "cell_type": "markdown",
   "id": "2d41e8ea",
   "metadata": {},
   "source": [
    "### Answer:"
   ]
  },
  {
   "cell_type": "code",
   "execution_count": 31,
   "id": "565fc2d2",
   "metadata": {},
   "outputs": [
    {
     "name": "stdout",
     "output_type": "stream",
     "text": [
      "[1, 1, 1, 3, 5, 1, 1, 2, 1, 0, 1, 0, 1, 2, 4, 0, 1, 2, 0, 3, 1, 0, 1, 1, 0, 0]\n",
      "[1, 0, 0, 0, 1, 0, 0, 0, 0, 0, 0, 1, 0, 0, 0, 2, 0, 0, 0, 0, 0, 0, 0, 0, 0, 0]\n"
     ]
    }
   ],
   "source": [
    " #  Defined a function called frequencies that takes input as string\n",
    "def frequencies(text):\n",
    "    letters = 'abcdefghijklmnopqrstuvwxyz' # Created a string letters consists pf all 26 lowercase alphabets\n",
    "    counts = [0] * 26 #  Initialised to 0.\n",
    "\n",
    "\n",
    "# The function then loops through each character in the text's lowercase version & increases the element in the counts list.\n",
    "\n",
    "    for char in text.lower(): \n",
    "        if char in letters:\n",
    "            index = letters.index(char)\n",
    "            counts[index] += 1\n",
    "\n",
    "# Returns the counts list.\n",
    "\n",
    "    return counts\n",
    "\n",
    "# The frequencies function is called twice with two input strings\n",
    "\n",
    "print(frequencies('The quick red fox got bored and went home.'))\n",
    "print(frequencies('apple'))"
   ]
  }
 ],
 "metadata": {
  "kernelspec": {
   "display_name": "Python 3 (ipykernel)",
   "language": "python",
   "name": "python3"
  },
  "language_info": {
   "codemirror_mode": {
    "name": "ipython",
    "version": 3
   },
   "file_extension": ".py",
   "mimetype": "text/x-python",
   "name": "python",
   "nbconvert_exporter": "python",
   "pygments_lexer": "ipython3",
   "version": "3.11.4"
  }
 },
 "nbformat": 4,
 "nbformat_minor": 5
}
